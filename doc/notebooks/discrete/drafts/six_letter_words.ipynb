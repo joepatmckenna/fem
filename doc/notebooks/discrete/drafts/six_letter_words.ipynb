{
 "cells": [
  {
   "cell_type": "markdown",
   "metadata": {},
   "source": [
    "# Six-letter words"
   ]
  },
  {
   "cell_type": "code",
   "execution_count": 13,
   "metadata": {},
   "outputs": [
    {
     "name": "stdout",
     "output_type": "stream",
     "text": [
      "number of threads: 32\n"
     ]
    }
   ],
   "source": [
    "%matplotlib inline\n",
    "import matplotlib.pyplot as plt\n",
    "import numpy as np\n",
    "import time\n",
    "import os\n",
    "import fem\n",
    "data_dir = '../../../data/words'\n",
    "print 'number of threads: %i' % (fem.fortran_module.fortran_module.num_threads(),)"
   ]
  },
  {
   "cell_type": "code",
   "execution_count": 14,
   "metadata": {},
   "outputs": [
    {
     "name": "stdout",
     "output_type": "stream",
     "text": [
      "number of words: 633565, number of unique words: 20083\n"
     ]
    }
   ],
   "source": [
    "words = np.loadtxt(os.path.join(data_dir, '06.txt'), dtype='U6')\n",
    "unique_words = np.unique(words)\n",
    "print 'number of words: %i, number of unique words: %i' % (len(words), len(unique_words))"
   ]
  },
  {
   "cell_type": "code",
   "execution_count": 15,
   "metadata": {
    "scrolled": true
   },
   "outputs": [
    {
     "name": "stdout",
     "output_type": "stream",
     "text": [
      "random word: poison\n"
     ]
    }
   ],
   "source": [
    "print 'random word:', np.random.choice(words)"
   ]
  },
  {
   "cell_type": "code",
   "execution_count": 16,
   "metadata": {},
   "outputs": [
    {
     "name": "stdout",
     "output_type": "stream",
     "text": [
      "word length (n): 6, number of words (l): 633565\n"
     ]
    }
   ],
   "source": [
    "words = np.array([np.array(list(word)) for word in words]).T\n",
    "n, l = words.shape\n",
    "print 'word length (n): %i, number of words (l): %i' % (n, l)"
   ]
  },
  {
   "cell_type": "code",
   "execution_count": 17,
   "metadata": {},
   "outputs": [],
   "source": [
    "w, d = fem.discrete.fit.fit(words, degs=[1], iters=10)"
   ]
  },
  {
   "cell_type": "code",
   "execution_count": 18,
   "metadata": {},
   "outputs": [
    {
     "data": {
      "text/plain": [
       "[array([0.00147929, 0.00147929, 0.00147929, 0.00147929, 0.00147929,\n",
       "        0.00147929, 0.00147929, 0.00147929, 0.00147929]),\n",
       " array([0.00147929, 0.00147929, 0.00147929, 0.00147929, 0.00147929,\n",
       "        0.00147929, 0.00147929, 0.00147929, 0.00147929]),\n",
       " array([0.00147929, 0.00147929, 0.00147929, 0.00147929, 0.00147929,\n",
       "        0.00147929, 0.00147929, 0.00147929, 0.00147929]),\n",
       " array([0.00147929, 0.00147929, 0.00147929, 0.00147929, 0.00147929,\n",
       "        0.00147929, 0.00147929, 0.00147929, 0.00147929]),\n",
       " array([0.00147929, 0.00147929, 0.00147929, 0.00147929, 0.00147929,\n",
       "        0.00147929, 0.00147929, 0.00147929, 0.00147929]),\n",
       " array([0.00147929, 0.00147929, 0.00147929, 0.00147929, 0.00147929,\n",
       "        0.00147929, 0.00147929, 0.00147929, 0.00147929])]"
      ]
     },
     "execution_count": 18,
     "metadata": {},
     "output_type": "execute_result"
    }
   ],
   "source": [
    "d"
   ]
  },
  {
   "cell_type": "code",
   "execution_count": 19,
   "metadata": {},
   "outputs": [
    {
     "data": {
      "image/png": "[encoded data removed]",
      "text/plain": [
       "<matplotlib.figure.Figure at 0x7ffa997bfe10>"
      ]
     },
     "metadata": {},
     "output_type": "display_data"
    }
   ],
   "source": [
    "fig, ax = plt.subplots(1, 2, figsize=(12,6))\n",
    "for di in d:\n",
    "    ax[0].plot(di, 'k-', lw=0.1)\n",
    "ax[0].set_xlabel('iteration')\n",
    "ax[0].set_ylabel('discrepancy')\n",
    "\n",
    "ax[1].matshow(w[1], aspect='equal', cmap=plt.cm.seismic)\n",
    "plt.show()"
   ]
  },
  {
   "cell_type": "code",
   "execution_count": 20,
   "metadata": {},
   "outputs": [
    {
     "name": "stdout",
     "output_type": "stream",
     "text": [
      "5\n",
      "casing\n",
      "qupied\n"
     ]
    }
   ],
   "source": [
    "ltn = dict(zip(list('abcdefghijklmnopqrstuvwxyz'),range(26)))\n",
    "ntl = dict(zip(range(26),list('abcdefghijklmnopqrstuvwxyz')))\n",
    "x = np.zeros(6*26)\n",
    "j = np.random.randint(words.shape[1])\n",
    "k = np.random.randint(6)\n",
    "print k\n",
    "print ''.join(words[:,j])\n",
    "x[[26*i+ltn[l] for i,l in enumerate(words[:,j])]] = 1\n",
    "x[k*26:(k+1)*26] = 0\n",
    "print ''.join([ntl[n] for n in np.argmax(np.split(w[1].dot(x), 6), axis=1)])"
   ]
  },
  {
   "cell_type": "code",
   "execution_count": null,
   "metadata": {},
   "outputs": [],
   "source": [
    "# h1_filter = h1.flatten()\n",
    "# order = h1_filter.argsort()\n",
    "# bottom, top = order[:100], order[-100:]\n",
    "# zeros = list(set(range(len(h1_filter))) - set(top) - set(bottom))\n",
    "# h1_filter[zeros] = 0\n",
    "# h1_filter = h1_filter.reshape((6*26, 6*26))\n",
    "\n",
    "# fig = plt.figure(figsize=(8,8))\n",
    "# ax = plt.gca()\n",
    "# ax.imshow(h1_filter, aspect='equal', cmap=plt.cm.seismic, vmin=-1, vmax=1)\n",
    "# ax.axis('off')\n",
    "# plt.show()"
   ]
  },
  {
   "cell_type": "code",
   "execution_count": null,
   "metadata": {},
   "outputs": [],
   "source": [
    "# np.where(h1_filter > 0), np.where(h1_filter < 0)"
   ]
  }
 ],
 "metadata": {
  "kernelspec": {
   "display_name": "Python 2",
   "language": "python",
   "name": "python2"
  },
  "language_info": {
   "codemirror_mode": {
    "name": "ipython",
    "version": 2
   },
   "file_extension": ".py",
   "mimetype": "text/x-python",
   "name": "python",
   "nbconvert_exporter": "python",
   "pygments_lexer": "ipython2",
   "version": "2.7.5"
  }
 },
 "nbformat": 4,
 "nbformat_minor": 2
}
