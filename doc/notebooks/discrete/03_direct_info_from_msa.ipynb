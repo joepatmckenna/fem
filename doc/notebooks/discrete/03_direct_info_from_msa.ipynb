{
 "cells": [
  {
   "cell_type": "markdown",
   "metadata": {},
   "source": [
    "# Direct information from a multiple sequence alignment\n",
    "\n",
    "[![Binder](https://mybinder.org/badge.svg)](https://mybinder.org/v2/gh/joepatmckenna/fem/master?filepath=doc%2Fnotebooks%2Fdiscrete%2F03_direct_info_from_msa.ipynb)\n",
    "\n",
    "In this example, we compute coupling strengths between residues of the CRISPR-Cas9 protein amino acid sequence from multiple sequence alignment data. We demonstrate that a statistic called *direct information* [[1]](https://doi.org/10.1073/pnas.1111471108) computed from these couplings is predictive of contacts in observed 3D conformations of the sequence."
   ]
  },
  {
   "cell_type": "markdown",
   "metadata": {},
   "source": [
    "We start by loading the necessary packages and functions. We collect and parse MSA data from the [Pfam database](https://pfam.xfam.org/) using the `parse_pfam` function in [this script](../../static/parse_pfam.py). The function downloads the full current release of the Pfam database, creates a local directory structure with the MSA data for each family and any cross-references from sequences in each family to structures in the [Protein Data Bank](https://www.rcsb.org/), then returns pandas DataFrames that detail information about the MSAs and PDB cross-references.\n",
    "\n",
    "The MSA and PDB cross-reference data for the protein family/MSA with Pfam accession code PFXXXXX are stored in files `msa.npy` and `pdb_refs.npy`  (if cross-references are found) in the `Pfam-A.full/PFXXXXX` subdirectory of `data_dir` defined below."
   ]
  },
  {
   "cell_type": "code",
   "execution_count": 1,
   "metadata": {},
   "outputs": [],
   "source": [
    "import matplotlib.pyplot as plt\n",
    "from matplotlib import patches\n",
    "import numpy as np\n",
    "import pandas as pd\n",
    "from scipy.spatial import distance_matrix\n",
    "import fem, sys, os, time, Bio.PDB, nglview, warnings\n",
    "pdb_list = Bio.PDB.PDBList()\n",
    "pdb_parser = Bio.PDB.PDBParser()\n",
    "data_dir = '../../../data/msa'\n",
    "sys.path.append(data_dir)\n",
    "from parse_pfam import parse_pfam\n",
    "from Bio import BiopythonWarning\n",
    "warnings.simplefilter('ignore', BiopythonWarning)\n",
    "%matplotlib inline"
   ]
  },
  {
   "cell_type": "markdown",
   "metadata": {},
   "source": [
    "Next, we get pandas DataFrames `pfam` and `pdb_refs` detailing information for all protein families in the Pfam database and references from MSA sequences to PDB structures."
   ]
  },
  {
   "cell_type": "code",
   "execution_count": 2,
   "metadata": {
    "scrolled": true
   },
   "outputs": [
    {
     "name": "stdout",
     "output_type": "stream",
     "text": [
      "total MSAs: 16479, total PDB refs: 207746\n"
     ]
    }
   ],
   "source": [
    "pfam, pdb_refs = parse_pfam(data_dir)\n",
    "print 'total MSAs: %i, total PDB refs: %i' % (pfam.shape[0], pdb_refs.shape[0])"
   ]
  },
  {
   "cell_type": "markdown",
   "metadata": {},
   "source": [
    "Each row in `pfam` contains information about a single MSA. The columns of `pfam` are `res`: the number of residues in each sequence of the alignment, `seq`: the number of sequences in the alignment. Now let's add a column `size=res*seq` and sort by that column to see which families contain the most data."
   ]
  },
  {
   "cell_type": "code",
   "execution_count": 3,
   "metadata": {},
   "outputs": [
    {
     "data": {
      "text/html": [
       "<div>\n",
       "<style>\n",
       "    .dataframe thead tr:only-child th {\n",
       "        text-align: right;\n",
       "    }\n",
       "\n",
       "    .dataframe thead th {\n",
       "        text-align: left;\n",
       "    }\n",
       "\n",
       "    .dataframe tbody tr th {\n",
       "        vertical-align: top;\n",
       "    }\n",
       "</style>\n",
       "<table border=\"1\" class=\"dataframe\">\n",
       "  <thead>\n",
       "    <tr style=\"text-align: right;\">\n",
       "      <th></th>\n",
       "      <th>res</th>\n",
       "      <th>seq</th>\n",
       "      <th>pdb_refs</th>\n",
       "      <th>size</th>\n",
       "    </tr>\n",
       "  </thead>\n",
       "  <tbody>\n",
       "    <tr>\n",
       "      <th>PF00005</th>\n",
       "      <td>2386</td>\n",
       "      <td>369723</td>\n",
       "      <td>407</td>\n",
       "      <td>882159078</td>\n",
       "    </tr>\n",
       "    <tr>\n",
       "      <th>PF00069</th>\n",
       "      <td>3194</td>\n",
       "      <td>236455</td>\n",
       "      <td>3910</td>\n",
       "      <td>755237270</td>\n",
       "    </tr>\n",
       "    <tr>\n",
       "      <th>PF07690</th>\n",
       "      <td>3427</td>\n",
       "      <td>214283</td>\n",
       "      <td>23</td>\n",
       "      <td>734347841</td>\n",
       "    </tr>\n",
       "    <tr>\n",
       "      <th>PF00067</th>\n",
       "      <td>4853</td>\n",
       "      <td>85020</td>\n",
       "      <td>768</td>\n",
       "      <td>412602060</td>\n",
       "    </tr>\n",
       "    <tr>\n",
       "      <th>PF00501</th>\n",
       "      <td>3767</td>\n",
       "      <td>87704</td>\n",
       "      <td>145</td>\n",
       "      <td>330380968</td>\n",
       "    </tr>\n",
       "  </tbody>\n",
       "</table>\n",
       "</div>"
      ],
      "text/plain": [
       "          res     seq  pdb_refs       size\n",
       "PF00005  2386  369723       407  882159078\n",
       "PF00069  3194  236455      3910  755237270\n",
       "PF07690  3427  214283        23  734347841\n",
       "PF00067  4853   85020       768  412602060\n",
       "PF00501  3767   87704       145  330380968"
      ]
     },
     "execution_count": 3,
     "metadata": {},
     "output_type": "execute_result"
    }
   ],
   "source": [
    "pfam['size'] = pfam['res'] * pfam['seq']\n",
    "pfam.sort_values(by='size', ascending=False, inplace=True)\n",
    "pfam.head()"
   ]
  },
  {
   "cell_type": "markdown",
   "metadata": {},
   "source": [
    "Each row in the PDB references table `pdb_refs` contains information about a cross-reference between a protein family sequence in the Pfam database and a protein structure in the PDB database. The columns of the table are `seq`: the index (starting at 0) of a sequence in the protein family, `uniprot_id`: the ID of the sequence in the [UniProtKB](https://www.uniprot.org/help/uniprotkb) database, `uniprot_start`/`uniprot_end`: the start and end residue positions of the UniProtKB sequence that appears in the MSA, `pdb_id`: the PDB ID, `chain`: the PDB protein structure chain, `pdb_start`/`pdb_end`: the start and end residue positions of the PDB sequence that appears in the MSA. Let's create a column `res` that contains the length of the sequence and sort by that column."
   ]
  },
  {
   "cell_type": "code",
   "execution_count": 4,
   "metadata": {},
   "outputs": [
    {
     "data": {
      "text/html": [
       "<div>\n",
       "<style>\n",
       "    .dataframe thead tr:only-child th {\n",
       "        text-align: right;\n",
       "    }\n",
       "\n",
       "    .dataframe thead th {\n",
       "        text-align: left;\n",
       "    }\n",
       "\n",
       "    .dataframe tbody tr th {\n",
       "        vertical-align: top;\n",
       "    }\n",
       "</style>\n",
       "<table border=\"1\" class=\"dataframe\">\n",
       "  <thead>\n",
       "    <tr style=\"text-align: right;\">\n",
       "      <th></th>\n",
       "      <th>seq</th>\n",
       "      <th>uniprot_id</th>\n",
       "      <th>uniprot_start</th>\n",
       "      <th>uniprot_end</th>\n",
       "      <th>pdb_id</th>\n",
       "      <th>chain</th>\n",
       "      <th>pdb_start</th>\n",
       "      <th>pdb_end</th>\n",
       "      <th>res</th>\n",
       "    </tr>\n",
       "  </thead>\n",
       "  <tbody>\n",
       "    <tr>\n",
       "      <th>PF11894</th>\n",
       "      <td>578</td>\n",
       "      <td>NU205_HUMAN</td>\n",
       "      <td>14</td>\n",
       "      <td>1684</td>\n",
       "      <td>5IJN</td>\n",
       "      <td>J</td>\n",
       "      <td>14</td>\n",
       "      <td>1684</td>\n",
       "      <td>1671</td>\n",
       "    </tr>\n",
       "    <tr>\n",
       "      <th>PF11894</th>\n",
       "      <td>578</td>\n",
       "      <td>NU205_HUMAN</td>\n",
       "      <td>14</td>\n",
       "      <td>1684</td>\n",
       "      <td>5IJN</td>\n",
       "      <td>P</td>\n",
       "      <td>14</td>\n",
       "      <td>1684</td>\n",
       "      <td>1671</td>\n",
       "    </tr>\n",
       "    <tr>\n",
       "      <th>PF11894</th>\n",
       "      <td>578</td>\n",
       "      <td>NU205_HUMAN</td>\n",
       "      <td>14</td>\n",
       "      <td>1684</td>\n",
       "      <td>5IJN</td>\n",
       "      <td>D</td>\n",
       "      <td>14</td>\n",
       "      <td>1684</td>\n",
       "      <td>1671</td>\n",
       "    </tr>\n",
       "    <tr>\n",
       "      <th>PF11894</th>\n",
       "      <td>578</td>\n",
       "      <td>NU205_HUMAN</td>\n",
       "      <td>14</td>\n",
       "      <td>1684</td>\n",
       "      <td>5IJN</td>\n",
       "      <td>V</td>\n",
       "      <td>14</td>\n",
       "      <td>1684</td>\n",
       "      <td>1671</td>\n",
       "    </tr>\n",
       "    <tr>\n",
       "      <th>PF02463</th>\n",
       "      <td>2434</td>\n",
       "      <td>SMC1_YEAST</td>\n",
       "      <td>3</td>\n",
       "      <td>1213</td>\n",
       "      <td>1W1W</td>\n",
       "      <td>C</td>\n",
       "      <td>3</td>\n",
       "      <td>1213</td>\n",
       "      <td>1211</td>\n",
       "    </tr>\n",
       "  </tbody>\n",
       "</table>\n",
       "</div>"
      ],
      "text/plain": [
       "          seq   uniprot_id  uniprot_start  uniprot_end pdb_id chain  \\\n",
       "PF11894   578  NU205_HUMAN             14         1684   5IJN     J   \n",
       "PF11894   578  NU205_HUMAN             14         1684   5IJN     P   \n",
       "PF11894   578  NU205_HUMAN             14         1684   5IJN     D   \n",
       "PF11894   578  NU205_HUMAN             14         1684   5IJN     V   \n",
       "PF02463  2434   SMC1_YEAST              3         1213   1W1W     C   \n",
       "\n",
       "         pdb_start  pdb_end   res  \n",
       "PF11894         14     1684  1671  \n",
       "PF11894         14     1684  1671  \n",
       "PF11894         14     1684  1671  \n",
       "PF11894         14     1684  1671  \n",
       "PF02463          3     1213  1211  "
      ]
     },
     "execution_count": 4,
     "metadata": {},
     "output_type": "execute_result"
    }
   ],
   "source": [
    "pdb_refs['res'] = pdb_refs['pdb_end'] - pdb_refs['pdb_start'] + 1\n",
    "pdb_refs.sort_values(by='res', ascending=False, inplace=True)\n",
    "pdb_refs.head()"
   ]
  },
  {
   "cell_type": "markdown",
   "metadata": {},
   "source": [
    "We'll examine the particular protein family with Pfam accesion code PF16592. This protein family corresponds to the REC lobe of CRISPR-associated endonuclease Cas9. The REC lobe and the NUC lobe of Cas9 fold to present a positively charged groove at their interface which accommodates the negatively charged sgRNA: target DNA heteroduplex. [[2]](https://www.ncbi.nlm.nih.gov/pubmed/24529477) We'll isolate the family of interest from the `pfam` DataFrame in the `fam` variable."
   ]
  },
  {
   "cell_type": "code",
   "execution_count": 5,
   "metadata": {
    "scrolled": false
   },
   "outputs": [
    {
     "name": "stdout",
     "output_type": "stream",
     "text": [
      "size rank: 7142 of 16479\n"
     ]
    },
    {
     "data": {
      "text/html": [
       "<div>\n",
       "<style>\n",
       "    .dataframe thead tr:only-child th {\n",
       "        text-align: right;\n",
       "    }\n",
       "\n",
       "    .dataframe thead th {\n",
       "        text-align: left;\n",
       "    }\n",
       "\n",
       "    .dataframe tbody tr th {\n",
       "        vertical-align: top;\n",
       "    }\n",
       "</style>\n",
       "<table border=\"1\" class=\"dataframe\">\n",
       "  <thead>\n",
       "    <tr style=\"text-align: right;\">\n",
       "      <th></th>\n",
       "      <th>res</th>\n",
       "      <th>seq</th>\n",
       "      <th>pdb_refs</th>\n",
       "      <th>size</th>\n",
       "    </tr>\n",
       "  </thead>\n",
       "  <tbody>\n",
       "    <tr>\n",
       "      <th>PF16592</th>\n",
       "      <td>1079</td>\n",
       "      <td>146</td>\n",
       "      <td>21</td>\n",
       "      <td>157534</td>\n",
       "    </tr>\n",
       "  </tbody>\n",
       "</table>\n",
       "</div>"
      ],
      "text/plain": [
       "          res  seq  pdb_refs    size\n",
       "PF16592  1079  146        21  157534"
      ]
     },
     "execution_count": 5,
     "metadata": {},
     "output_type": "execute_result"
    }
   ],
   "source": [
    "# Cas 9 family accesion code\n",
    "ac = 'PF16592'\n",
    "# store the family of interest in the 'fam' variable\n",
    "fam = pfam.loc[ac]\n",
    "print 'size rank: %i of %i' % (pfam['size'].rank(ascending=False)[fam.name].astype(int), pfam.shape[0])\n",
    "\n",
    "# local directory containing data for this MSA\n",
    "fam_dir = os.path.join(data_dir, 'Pfam-A.full', fam.name)\n",
    "# the residue symbols array that is the MSA\n",
    "msa = np.load(os.path.join(fam_dir, 'msa.npy'))\n",
    "\n",
    "# determine which residues are the same across all sequences, excluding gaps\n",
    "aa = np.array([np.unique(s) for s in msa])\n",
    "one_aa = np.array([len(a) == 1 for a in aa])\n",
    "two_aa = np.array([len(a) == 2 for a in aa])\n",
    "missing_aa_res = np.array(['-' in a for a in aa])\n",
    "conserved_residues = one_aa | (two_aa & missing_aa_res)\n",
    "\n",
    "# the number of unique amino acids (or gap symbol) that appear at each residue\n",
    "m = np.array([len(a) for a in aa])\n",
    "m = m[~conserved_residues]\n",
    "n_residues = m.shape[0]\n",
    "\n",
    "pfam[pfam.index == ac]"
   ]
  },
  {
   "cell_type": "markdown",
   "metadata": {},
   "source": [
    "One can classify a residue from the perspective of the MSA as a conserved residue, meaning that in every sequence of the MSA, either a gap or the same amino acid is observed. One can also classify a residue from the perspective of the sequence as a gap, i.e. an insertion that Pfam's aligning algorithm made in the sequence in order to compare like residues across sequences. Therefore, each sequence-residue symbol is in one of four classes according to whether it is a conserved or not and where it is a gap or not. We color code each sequence-residue symbol for the MSA of interest."
   ]
  },
  {
   "cell_type": "code",
   "execution_count": null,
   "metadata": {
    "scrolled": true
   },
   "outputs": [
    {
     "data": {
      "image/png": "[encoded data removed]",
      "text/plain": [
       "<matplotlib.figure.Figure at 0x7f8ba02b6f90>"
      ]
     },
     "metadata": {},
     "output_type": "display_data"
    }
   ],
   "source": [
    "code = np.zeros(msa.shape, dtype=int)\n",
    "code[conserved_residues] = 2\n",
    "for j, s in enumerate(msa.T):\n",
    "    code[s == '-', j] += 1        \n",
    "    \n",
    "fig, ax = plt.subplots(1, 1, figsize=(16, 4))\n",
    "ax.set_ylabel('sequence')\n",
    "ax.set_xlabel('residue')\n",
    "cmap = plt.cm.get_cmap('plasma', 4)\n",
    "ax.matshow(code.T, aspect='auto', cmap=cmap)\n",
    "labels = ['active', 'alignment gap', 'conserved residue', 'alignment gap and conserved residue']\n",
    "handles = [patches.Patch(color=cmap(i), label=labels[i]) for i in range(4)]\n",
    "plt.legend(handles=handles, ncol=4)\n",
    "plt.show()"
   ]
  },
  {
   "cell_type": "markdown",
   "metadata": {},
   "source": [
    "Now, we compute the residue coupling strengths and the direct information from the MSA. The MSA is a set of sequences $\\text{MSA}=\\{s_1,\\ldots,s_n\\}$ and each nonconserved residue $r_i$, $i=1,\\ldots,m$, in the alignment takes\n",
    "\n",
    "$$m_i = \\left|\\{a : r_i=a\\text{ for some sequence }s=(r_1,\\ldots,r_m)\\in\\text{MSA}\\}\\right|$$\n",
    "\n",
    "unique empircal values in the alignment. In the following, $M_i=\\sum_{\\tilde{i}<i}m_{\\tilde{i}}$ for $i=1,\\ldots,m$ and $e_i$ represents the $i^{th}$ canonical basis vector of the shape implied by context.\n",
    "\n",
    "We use FEM to infer the couplings $W$ assuming that the probability of residue $r_i$ being amino acid $a_k$ for any sequence with one-hot encoding $\\sigma$ is given by\n",
    "\n",
    "$$p(r_i=a_k~|~\\{r_1,\\ldots,r_n\\}\\setminus \\{r_i\\})={\\exp e_{M_i+k}^TW\\sigma\\over\\sum_{j=1}^{m_i}\\exp e_{M_i+j}^TW\\sigma},\\quad i=1,\\ldots,m,~k=1,\\ldots,m_i.$$\n",
    "\n",
    "Specifically, we call `fem.discrete.fit.fit(msa[~conserved_residues])` below, where `msa` is an array of symbols with each row storing residue data and each column storing sequence data, to return $W$ and the running discrepancies from the fit.\n",
    "\n",
    "After computing $W$, we compute the *direct information* for each pair of nonconserved residues. The direct information of residues $r_i$ and $r_j$ is\n",
    "\n",
    "$$DI(r_i, r_j)=\\sum_{k_1=1}^{m_{i_1}}\\sum_{k_2=1}^{m_{i_2}} p(r_{i_1}=a_{k_1}, r_{i_2}=a_{k_2}) \\ln {p(r_{i_1}=a_{k_1}, r_{i_2}=a_{k_2}) \\over p(r_{i_1}=a_{k_1})~p(r_{i_2}=a_{k_2})}$$\n",
    "\n",
    "where the joint and marginal probablities are computed over subsequences containing only residues $r_i$ and $r_j$:\n",
    "\n",
    "$$p(r_{i_1}=a_{k_1}, r_{i_2}=a_{k_2})={\\exp e_{M_{i_1}+k_1}^TWe_{M_{i_2}+k_2} \\over \n",
    "\\sum_{j_1=1}^{m_{i_1}}\\sum_{j_2=1}^{m_{i_2}}\\exp e_{M_{i_1}+j_1}^TWe_{M_{i_2}+j_2}},$$\n",
    "\n",
    "$$p(r_{i_1}=a_{k_1})={\\sum_{k_2=1}^{m_{i_2}} p(r_{i_1}=a_{k_1}, r_{i_2}=a_{k_2}) \\over \\sum_{k_1=1}^{m_{i_1}}\\sum_{k_2=1}^{m_{i_2}}p(r_{i_1}=a_{k_1}, r_{i_2}=a_{k_2})},$$\n",
    "\n",
    "and $p(r_{i_2}=a_{k_2})$ is defined similarly.\n",
    "\n",
    "We plot the running discrepancies from the fit and heat maps of $W$ and the direct information below."
   ]
  },
  {
   "cell_type": "code",
   "execution_count": null,
   "metadata": {},
   "outputs": [
    {
     "name": "stdout",
     "output_type": "stream",
     "text": [
      "fit time: 5.91 sec\n"
     ]
    }
   ],
   "source": [
    "def direct_information(msa, cache=True):\n",
    "\n",
    "    w_file = os.path.join(fam_dir, 'w.npy')\n",
    "    d_file = os.path.join(fam_dir, 'd.npy')\n",
    "    if cache and os.path.exists(w_file) and os.path.exists(d_file):\n",
    "        w = np.load(w_file)\n",
    "        d = np.load(d_file)\n",
    "    else:\n",
    "        start = time.time()\n",
    "        w, d = fem.discrete.fit.fit(msa[~conserved_residues], iters=10)\n",
    "        end = time.time()\n",
    "        print 'fit time: %.02f sec' % (end-start,)\n",
    "        w = np.hstack(w.values())\n",
    "        np.save(w_file, w)\n",
    "        np.save(d_file, d)\n",
    "\n",
    "    direct_info_file = os.path.join(fam_dir, 'direct_info.npy')\n",
    "    if cache and os.path.exists(direct_info_file):\n",
    "        direct_info = np.load(direct_info_file)\n",
    "    else:\n",
    "        mm = np.insert(m.cumsum(), 0, 0)\n",
    "        w_idx = np.vstack((mm[:-1], mm[1:])).T\n",
    "        direct_info = np.zeros((n_residues, n_residues))\n",
    "        for i, ii in enumerate(w_idx):\n",
    "            for j, jj in enumerate(w_idx):\n",
    "                p = np.exp(w[ii[0]:ii[1], jj[0]:jj[1]])\n",
    "                pi, pj = p.sum(axis=1), p.sum(axis=0)\n",
    "                p /= p.sum()\n",
    "                pi /= pi.sum()\n",
    "                pj /= pj.sum()\n",
    "                direct_info[i,j] = (p*np.log(p/np.outer(pi, pj))).sum()\n",
    "        np.save(direct_info_file, direct_info)\n",
    "\n",
    "    return direct_info, w, d\n",
    "\n",
    "direct_info, w, d = direct_information(msa, cache=False)\n",
    "\n",
    "fig, ax = plt.subplots(1, 3, figsize=(12,4))\n",
    "for di in d:\n",
    "    ax[0].plot(di, 'k-', lw=0.1)\n",
    "ax[0].set_xlabel('iteration')\n",
    "ax[0].set_ylabel('discrepancy')\n",
    "scale = 1e-1 * np.abs(w).max()\n",
    "ax[1].matshow(w, cmap='seismic', vmin=-scale, vmax=scale)\n",
    "ax[1].set_title('Pfam: %s' % (fam.name,))\n",
    "scale = 1e-1 * np.abs(direct_info).max()\n",
    "ax[2].matshow(direct_info, cmap='seismic', vmin=0, vmax=scale)\n",
    "ax[2].set_title('direct info')\n",
    "for a in ax[1:]:\n",
    "    a.axis('off')\n",
    "plt.show()"
   ]
  },
  {
   "cell_type": "markdown",
   "metadata": {},
   "source": [
    "Next, we examine the extent to direct information is predictive of residue contacts of the 3D conformations of sequences in the MSA. Several sequences in this family contain cross-references to PDB structures. We'll isolate these references from the `pdb_refs` DataFrame in the `refs` variable."
   ]
  },
  {
   "cell_type": "code",
   "execution_count": null,
   "metadata": {
    "scrolled": true
   },
   "outputs": [],
   "source": [
    "refs = pdb_refs[pdb_refs.index.str.contains(fam.name)]\n",
    "refs.head()"
   ]
  },
  {
   "cell_type": "markdown",
   "metadata": {},
   "source": [
    "Next, we overlay the greatest direct information pairs on the contact maps of the PDB structures cross-referenced from sequences in the MSA. We indicate the percentage of the greatest direct information pairs that are contacts of the PDB in the title of each subplot. A PDB contact map is a binary image where a pixel value is 1 if the corresponding pair of residues is less than a distance threshold (we use 8 angstroms below) and 0 otherwise."
   ]
  },
  {
   "cell_type": "code",
   "execution_count": null,
   "metadata": {},
   "outputs": [],
   "source": [
    "def contact_map(ref, dist_thresh=10):\n",
    "    seq = msa[:,ref.seq]\n",
    "    pdb_file = pdb_list.retrieve_pdb_file(ref.pdb_id, pdir=fam_dir, file_format='pdb')\n",
    "    chain = pdb_parser.get_structure(ref.pdb_id, pdb_file)[0][ref.chain]\n",
    "    coords = np.array([a.get_coord() for a in chain.get_atoms()])\n",
    "    coords = coords[ref.pdb_start-1:ref.pdb_end]\n",
    "    missing_aa_seq = seq == '-'\n",
    "    coords = coords[~conserved_residues[~missing_aa_seq]]\n",
    "    return distance_matrix(coords, coords) < dist_thresh\n",
    "\n",
    "def predict_contacts(seq, direct_info, top, k=2):\n",
    "    missing_aa_seq = seq == '-'\n",
    "    di_idx = np.arange((~conserved_residues).sum())\n",
    "    di_idx = di_idx[~missing_aa_seq[~conserved_residues]]\n",
    "    di = direct_info[np.ix_(di_idx, di_idx)]\n",
    "    mask = np.triu(np.ones(di.shape[0], dtype=bool), k=k)\n",
    "    thresh = np.sort(np.abs(di)[mask])[-top]\n",
    "    di[~mask] = 0\n",
    "    predicted_contacts = np.where(di >= thresh)\n",
    "    return predicted_contacts\n",
    "\n",
    "top = 20\n",
    "max_tp = 0\n",
    "best_ref = refs.iloc[0]\n",
    "\n",
    "n_refs = refs.shape[0]\n",
    "r, c = int(1+(n_refs-1)/4.), 4\n",
    "w, h = 12, 3*r\n",
    "fig = plt.figure(figsize=(w,h))\n",
    "for i in range(refs.shape[0]):\n",
    "    ref = refs.iloc[i]\n",
    "    seq = msa[:, ref.seq]\n",
    "    contacts = contact_map(ref)\n",
    "    predicted_contacts = predict_contacts(seq, direct_info, top)\n",
    "    tp = contacts[predicted_contacts].sum()\n",
    "    if tp > max_tp:\n",
    "        max_tp = tp\n",
    "        best_ref = ref\n",
    "\n",
    "    ax = fig.add_subplot(r, c, i+1)\n",
    "    ax.matshow(contacts, cmap='Greys', aspect='auto')\n",
    "    ax.scatter(*predicted_contacts[::-1], c='r')\n",
    "    ax.set_title('%s%s, %i-%i (%02.0f%%)' % (ref.pdb_id, ref.chain, ref.pdb_start, ref.pdb_end, 100.*tp/float(top)))\n",
    "    ax.axis('off')\n",
    "    \n",
    "plt.suptitle('top %i contact predictions' % (top,))\n",
    "plt.show()"
   ]
  },
  {
   "cell_type": "markdown",
   "metadata": {},
   "source": [
    "For the PDB with the most correctly predicted contacts, we visualize the greatest direct information pairs on the PDB structure."
   ]
  },
  {
   "cell_type": "code",
   "execution_count": null,
   "metadata": {},
   "outputs": [],
   "source": [
    "ref = best_ref\n",
    "seq = msa[:, ref.seq]\n",
    "predicted_contacts = predict_contacts(seq, direct_info, top)\n",
    "\n",
    "missing_aa_seq = seq == '-'\n",
    "res = np.arange(ref.pdb_start-1, ref.pdb_end)\n",
    "res = res[~conserved_residues[~missing_aa_seq]]\n",
    "res = [res[i] for i in predicted_contacts]\n",
    "\n",
    "pdb_file = pdb_list.retrieve_pdb_file(ref.pdb_id, pdir=fam_dir, file_format='pdb')\n",
    "chain = pdb_parser.get_structure(ref.pdb_id, pdb_file)[0][ref.chain]\n",
    "pdb_res = [r.get_id()[1] for r in chain.get_residues()]\n",
    "\n",
    "view = nglview.show_biopython(chain)\n",
    "colors = np.array(['0xFFFFFF'] * len(chain))\n",
    "for i, r in enumerate(pdb_res):\n",
    "    if r in res[0]:\n",
    "        colors[i] = '0xFF0000'\n",
    "    elif r in res[1]:\n",
    "        colors[i] = '0x00FF00'\n",
    "colors = list(colors)\n",
    "view._set_color_by_residue(colors)\n",
    "view.display()\n",
    "view"
   ]
  },
  {
   "cell_type": "markdown",
   "metadata": {},
   "source": [
    "To further assess the extent to which direct information is predictive of protein contacts, we compute the receiver operating characteristic (ROC) curve that results from varying the number of predicted contacts. The ROC curve is the true positive rate, i.e. the number of correctly predicted contacts divided by the total number of contacts, versus the false positive rate, i.e. the number of incorrectly predicted contacts divided by the total number of noncontacting residue pairs. A perfect binary classifier has an area under the ROC curve equal to 1."
   ]
  },
  {
   "cell_type": "code",
   "execution_count": null,
   "metadata": {},
   "outputs": [],
   "source": [
    "def roc(x, c):\n",
    "    mask = np.triu(np.ones(di.shape[0], dtype=bool), k=2)\n",
    "    order = x[mask].argsort()[::-1]\n",
    "    c_flat = c[mask][order]\n",
    "    tp = np.cumsum(c_flat, dtype=float)\n",
    "    fp = np.cumsum(~c_flat, dtype=float)\n",
    "    tp /= tp[-1]\n",
    "    fp /= fp[-1]\n",
    "    return fp, tp\n",
    "\n",
    "fig, ax = plt.subplots(1, 1, figsize=(8, 8))\n",
    "for i in range(refs.shape[0]):\n",
    "    ref = refs.iloc[i]\n",
    "    seq = msa[:, ref.seq]\n",
    "    missing_aa_seq = seq == '-'\n",
    "    di_idx = np.arange((~conserved_residues).sum())\n",
    "    di_idx = di_idx[~missing_aa_seq[~conserved_residues]]\n",
    "    di = direct_info[np.ix_(di_idx, di_idx)]\n",
    "    contacts = contact_map(ref)\n",
    "    fp, tp = roc(di, contacts)\n",
    "    auc = tp.sum() / tp.shape[0]\n",
    "    ax.plot(fp, tp, label='%s%s, %i-%i, AUC: %.02f' % (ref.pdb_id, ref.chain, ref.pdb_start, ref.pdb_end, auc))\n",
    "\n",
    "grid = np.linspace(0, 1)\n",
    "ax.plot(grid, grid, 'r--', lw=1)\n",
    "ax.set_xlabel('false positive rate')\n",
    "ax.set_ylabel('true positive rate')\n",
    "plt.legend()\n",
    "plt.show()"
   ]
  }
 ],
 "metadata": {
  "kernelspec": {
   "display_name": "Python 2",
   "language": "python",
   "name": "python2"
  },
  "language_info": {
   "codemirror_mode": {
    "name": "ipython",
    "version": 2
   },
   "file_extension": ".py",
   "mimetype": "text/x-python",
   "name": "python",
   "nbconvert_exporter": "python",
   "pygments_lexer": "ipython2",
   "version": "2.7.5"
  }
 },
 "nbformat": 4,
 "nbformat_minor": 2
}
