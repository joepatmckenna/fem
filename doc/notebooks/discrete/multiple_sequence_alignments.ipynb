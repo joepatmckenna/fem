{
 "cells": [
  {
   "cell_type": "markdown",
   "metadata": {},
   "source": [
    "# Multiple sequence alignment"
   ]
  },
  {
   "cell_type": "markdown",
   "metadata": {},
   "source": [
    "Import modules, including a function [`parse_pfam`](../../../data/msa/parse_pfam.py) in the `data_dir` that downloads the current release of the [Pfam database](https://pfam.xfam.org/), and stores the MSAs in that database on the local disk. Get a list of IDs from the [Protein Data Bank](https://www.rcsb.org/)."
   ]
  },
  {
   "cell_type": "code",
   "execution_count": 1,
   "metadata": {},
   "outputs": [
    {
     "ename": "ImportError",
     "evalue": "No module named fortran_module",
     "output_type": "error",
     "traceback": [
      "\u001b[0;31m---------------------------------------------------------------------------\u001b[0m",
      "\u001b[0;31mImportError\u001b[0m                               Traceback (most recent call last)",
      "\u001b[0;32m<ipython-input-1-da0b32c9bbc9>\u001b[0m in \u001b[0;36m<module>\u001b[0;34m()\u001b[0m\n\u001b[0;32m----> 1\u001b[0;31m \u001b[0;32mimport\u001b[0m \u001b[0mfem\u001b[0m\u001b[0;34m\u001b[0m\u001b[0m\n\u001b[0m\u001b[1;32m      2\u001b[0m \u001b[0mget_ipython\u001b[0m\u001b[0;34m(\u001b[0m\u001b[0;34m)\u001b[0m\u001b[0;34m.\u001b[0m\u001b[0mmagic\u001b[0m\u001b[0;34m(\u001b[0m\u001b[0;34mu'matplotlib inline'\u001b[0m\u001b[0;34m)\u001b[0m\u001b[0;34m\u001b[0m\u001b[0m\n\u001b[1;32m      3\u001b[0m \u001b[0;32mimport\u001b[0m \u001b[0mmatplotlib\u001b[0m\u001b[0;34m.\u001b[0m\u001b[0mpyplot\u001b[0m \u001b[0;32mas\u001b[0m \u001b[0mplt\u001b[0m\u001b[0;34m\u001b[0m\u001b[0m\n\u001b[1;32m      4\u001b[0m \u001b[0;32mfrom\u001b[0m \u001b[0mmatplotlib\u001b[0m \u001b[0;32mimport\u001b[0m \u001b[0mpatches\u001b[0m\u001b[0;34m,\u001b[0m \u001b[0mcolors\u001b[0m\u001b[0;34m\u001b[0m\u001b[0m\n\u001b[1;32m      5\u001b[0m \u001b[0;32mimport\u001b[0m \u001b[0mnumpy\u001b[0m \u001b[0;32mas\u001b[0m \u001b[0mnp\u001b[0m\u001b[0;34m\u001b[0m\u001b[0m\n",
      "\u001b[0;32m/home/joe/Dropbox/NIH/fem/fem/__init__.py\u001b[0m in \u001b[0;36m<module>\u001b[0;34m()\u001b[0m\n\u001b[1;32m      1\u001b[0m \u001b[0mname\u001b[0m \u001b[0;34m=\u001b[0m \u001b[0;34m'fem'\u001b[0m\u001b[0;34m\u001b[0m\u001b[0m\n\u001b[1;32m      2\u001b[0m \u001b[0;34m\u001b[0m\u001b[0m\n\u001b[0;32m----> 3\u001b[0;31m \u001b[0;32mimport\u001b[0m \u001b[0mfortran_module\u001b[0m\u001b[0;34m\u001b[0m\u001b[0m\n\u001b[0m\u001b[1;32m      4\u001b[0m \u001b[0;32mimport\u001b[0m \u001b[0mdiscrete\u001b[0m\u001b[0;34m.\u001b[0m\u001b[0msimulate\u001b[0m\u001b[0;34m\u001b[0m\u001b[0m\n\u001b[1;32m      5\u001b[0m \u001b[0;32mimport\u001b[0m \u001b[0mdiscrete\u001b[0m\u001b[0;34m.\u001b[0m\u001b[0mfit\u001b[0m\u001b[0;34m\u001b[0m\u001b[0m\n",
      "\u001b[0;31mImportError\u001b[0m: No module named fortran_module"
     ]
    }
   ],
   "source": [
    "import fem\n",
    "%matplotlib inline\n",
    "import matplotlib.pyplot as plt\n",
    "from matplotlib import patches, colors\n",
    "import numpy as np\n",
    "import pandas as pd\n",
    "from scipy.spatial import distance_matrix\n",
    "import sys, os, time, pickle, pymol, Bio.PDB, warnings, nglview\n",
    "from Bio import BiopythonWarning\n",
    "warnings.simplefilter('ignore', BiopythonWarning)\n",
    "data_dir = '../../../data/msa'\n",
    "sys.path.append(data_dir)\n",
    "from parse_pfam import parse_pfam"
   ]
  },
  {
   "cell_type": "markdown",
   "metadata": {},
   "source": [
    "Get a table `pfam` of information for all protein families in the Pfam database and a table `pdb_refs` of all references from sequences to PDB structures."
   ]
  },
  {
   "cell_type": "code",
   "execution_count": null,
   "metadata": {
    "scrolled": true
   },
   "outputs": [],
   "source": [
    "pfam, pdb_refs = parse_pfam(data_dir)\n",
    "print 'total MSAs: %i, total PDB refs: %i' % (pfam.shape[0], pdb_refs.shape[0])"
   ]
  },
  {
   "cell_type": "markdown",
   "metadata": {},
   "source": [
    "Subset the Pfam table `pfam` to contain only the families that contain at least one sequence with a reference to a PDB structure."
   ]
  },
  {
   "cell_type": "code",
   "execution_count": null,
   "metadata": {},
   "outputs": [],
   "source": [
    "pfam = pfam[pfam.index.isin(pdb_refs.index)]\n",
    "print 'MSAs with PDB refs: %i' % (pfam.shape[0],)"
   ]
  },
  {
   "cell_type": "markdown",
   "metadata": {},
   "source": [
    "Each row in `pfam` contains information about a single protein family/multiple sequence alignment. Up until this point, the columns of `pfam` are `res`: the number of residues in each sequence of the alignment, `seq`: the number of sequences in the alignment. Now let's add a column `size=res*seq` and sort by that column to see which families contains the most data."
   ]
  },
  {
   "cell_type": "code",
   "execution_count": null,
   "metadata": {},
   "outputs": [],
   "source": [
    "pfam['size'] = pfam['res']* pfam['seq']\n",
    "pfam.sort_values(by='size', ascending=False, inplace=True)\n",
    "pfam.head()"
   ]
  },
  {
   "cell_type": "markdown",
   "metadata": {},
   "source": [
    "Each row in the PDB references table `pdb_refs` contains information about a cross-reference between a protein family in the Pfam database and a protein structure in the PDB database. Up until this point, the columns of the table are `seq`: the index of a sequence in the protein family, `uniprot_id`: the ID of the sequence in the [UniProtKB](https://www.uniprot.org/help/uniprotkb) database, `uniprot_start`/`uniprot_end`: the start and end residue positions of the UniProtKB sequence that appears in the MSA, `pdb_id`: the PDB ID, `chain`: the PDB protein structure chain, `pdb_start`/`pdb_end`: the start and end residue positions of the PDB sequence that appears in the MSA. Let's create a column `res` that contains the length of the sequence and sort by that column."
   ]
  },
  {
   "cell_type": "code",
   "execution_count": null,
   "metadata": {},
   "outputs": [],
   "source": [
    "pdb_refs['res'] = pdb_refs['pdb_end'] - pdb_refs['pdb_start'] + 1\n",
    "pdb_refs.sort_values(by='res', ascending=False, inplace=True)\n",
    "pdb_refs.head()"
   ]
  },
  {
   "cell_type": "markdown",
   "metadata": {},
   "source": [
    "We'll examine the particular protein family with Pfam accesion code PF16592. This protein family corresponds to the REC lobe of CRISPR-associated endonuclease Cas9. The REC lobe and the NUC lobe of Cas9 fold to present a positively charged groove at their interface which accommodates the negatively charged sgRNA: target DNA heteroduplex. [[1]](https://www.ncbi.nlm.nih.gov/pubmed/24529477)"
   ]
  },
  {
   "cell_type": "code",
   "execution_count": null,
   "metadata": {},
   "outputs": [],
   "source": [
    "# Cas 9 family\n",
    "ac = 'PF16592'\n",
    "size_rank = pfam['size'].rank(ascending=False)[ac].astype(int)\n",
    "print 'size rank: %i of %i' % (size_rank, pfam.shape[0])\n",
    "pfam[pfam.index == ac]"
   ]
  },
  {
   "cell_type": "markdown",
   "metadata": {},
   "source": [
    "The MSA data for Pfam family with accession code PFXXXXX is stored on the local disk in the `Pfam-A.full/PFXXXXX` subdirectory of `data_dir` defined above. Here, we define a function for loading MSA data."
   ]
  },
  {
   "cell_type": "code",
   "execution_count": null,
   "metadata": {},
   "outputs": [],
   "source": [
    "def get_msa(ac):\n",
    "    fam_dir = os.path.join(data_dir, 'Pfam-A.full', ac)\n",
    "    msa = np.load(os.path.join(fam_dir, 'msa.npy'))\n",
    "    return msa"
   ]
  },
  {
   "cell_type": "code",
   "execution_count": null,
   "metadata": {},
   "outputs": [],
   "source": [
    "msa = get_msa(ac)\n",
    "msa_int = fem.discrete.fit.categorize(msa)[0]\n",
    "aa = np.array([np.unique(s) for s in msa])\n",
    "one_aa = np.array([len(a) == 1 for a in aa])\n",
    "two_aa = np.array([len(a) == 2 for a in aa])\n",
    "missing_aa_res = np.array(['-' in a for a in aa])\n",
    "conserved_residues = one_aa | (two_aa & missing_aa_res)\n",
    "m = np.array([len(a) for a in aa])\n",
    "m = m[~conserved_residues]\n",
    "mm = np.insert(m.cumsum(), 0, 0)\n",
    "print 'conserved residues: %i of %i' % (conserved_residues.sum(), msa.shape[0])"
   ]
  },
  {
   "cell_type": "code",
   "execution_count": null,
   "metadata": {},
   "outputs": [],
   "source": [
    "msa_code = np.zeros(msa.shape, dtype=int)\n",
    "msa_code[conserved_residues] = 2\n",
    "for j, s in enumerate(msa.T):\n",
    "    msa_code[s == '-', j] += 1\n",
    "\n",
    "fig, ax = plt.subplots(1, 1, figsize=(16, 6))\n",
    "ax.set_xlabel('sequence')\n",
    "ax.set_ylabel('residue')\n",
    "cmap = plt.cm.get_cmap('plasma', 4)\n",
    "ax.imshow(msa_code, aspect='auto', cmap=cmap)\n",
    "labels = ['active', 'alignment gap', 'conserved residue', 'alignment gap and conserved residue']\n",
    "handles = [patches.Patch(color=cmap(i), label=labels[i]) for i in range(4)]\n",
    "plt.legend(handles=handles, ncol=4)\n",
    "plt.show()"
   ]
  },
  {
   "cell_type": "code",
   "execution_count": null,
   "metadata": {},
   "outputs": [],
   "source": [
    "start = time.time()\n",
    "w, d = fem.discrete.fit.fit(msa[~conserved_residues], degs=[1], iters=10)\n",
    "# for i1, i2 in zip(mm[:-1], mm[1:]):\n",
    "#     w[1][:, i1:i2] -= w[1][:, i1:i2].mean(1)[:,np.newaxis]\n",
    "end = time.time()\n",
    "print 'model fit time: %02f seconds' % (end-start,)"
   ]
  },
  {
   "cell_type": "code",
   "execution_count": null,
   "metadata": {},
   "outputs": [],
   "source": [
    "fig, ax = plt.subplots(1, 2, figsize=(12, 6))\n",
    "scale = 1e-1 * np.abs(w[1]).max()\n",
    "ax[0].matshow(w[1], cmap=plt.cm.seismic, vmin=-scale, vmax=scale)\n",
    "ax[0].axis('off')\n",
    "ax[0].set_title('Pfam: %s' % (ac,))\n",
    "for di in d:\n",
    "    ax[1].plot(di, 'k-', lw=0.1)\n",
    "ax[1].set_xlabel('iteration')\n",
    "ax[1].set_ylabel('discrepancy')\n",
    "plt.show()"
   ]
  },
  {
   "cell_type": "code",
   "execution_count": null,
   "metadata": {
    "scrolled": true
   },
   "outputs": [],
   "source": [
    "refs = pdb_refs[pdb_refs.index.str.contains(ac)]\n",
    "refs"
   ]
  },
  {
   "cell_type": "code",
   "execution_count": null,
   "metadata": {},
   "outputs": [],
   "source": [
    "ref = refs.iloc[0]\n",
    "seq = msa[:, ref.seq]\n",
    "missing_aa_seq = seq == '-'\n",
    "print 'PDB length == MSA seq length? %s' % (ref.res == seq[~missing_aa_seq].shape[0])\n",
    "print 'aa sequence: %s' % (seq[~missing_aa_seq])"
   ]
  },
  {
   "cell_type": "code",
   "execution_count": null,
   "metadata": {},
   "outputs": [],
   "source": [
    "seq_int = msa_int[:, ref.seq]\n",
    "seq_int = seq_int[~conserved_residues]\n",
    "w_idx = mm[:-1] + seq_int\n",
    "w_idx = w_idx[~missing_aa_seq[~conserved_residues]]\n",
    "w_seq = w[1][np.ix_(w_idx, w_idx)]\n",
    "\n",
    "fig, ax = plt.subplots(1, 1, figsize=(6, 6))\n",
    "scale = 1e-1 * np.abs(w_seq).max()\n",
    "ax.matshow(w_seq, cmap=plt.cm.seismic, vmin=-scale, vmax=scale)\n",
    "ax.axis('off')\n",
    "ax.set_title('PDB: %s, chain %s, residues %i-%i' % (ref.pdb_id, ref.chain, ref.pdb_start, ref.pdb_end))\n",
    "plt.show()"
   ]
  },
  {
   "cell_type": "code",
   "execution_count": null,
   "metadata": {},
   "outputs": [],
   "source": [
    "def get_contact_map(ref, dist_thresh=8):\n",
    "    pdb_list = Bio.PDB.PDBList()\n",
    "    pdb_parser = Bio.PDB.PDBParser()\n",
    "    pdb_dir = os.path.join(data_dir, 'Pfam-A.full', ref.name)\n",
    "    pdb_file = pdb_list.retrieve_pdb_file(ref.pdb_id, pdir=pdb_dir, file_format='pdb')\n",
    "    chain = pdb_parser.get_structure(ref.pdb_id, pdb_file)[0][ref.chain]\n",
    "    coords = np.array([a.get_coord() for a in chain.get_atoms()])\n",
    "    coords = coords[ref.pdb_start-1:ref.pdb_end]\n",
    "    coords = coords[~conserved_residues[~missing_aa_seq]]\n",
    "    return distance_matrix(coords, coords) < dist_thresh\n",
    "\n",
    "contact_map = get_contact_map(ref)\n",
    "\n",
    "fig, ax = plt.subplots(1, 1, figsize=(6, 6))\n",
    "ax.set_title('PDB: %s, chain %s, residues %i-%i' % (ref.pdb_id, ref.chain, ref.pdb_start, ref.pdb_end))\n",
    "ax.matshow(contact_map, cmap='Greys')\n",
    "ax.axis('off')\n",
    "plt.show()"
   ]
  },
  {
   "cell_type": "code",
   "execution_count": null,
   "metadata": {},
   "outputs": [],
   "source": [
    "def roc(w, c):\n",
    "    mask = ~np.eye(w.shape[0], dtype=bool)\n",
    "    order = np.abs(w)[mask].argsort()[::-1]\n",
    "    c_flat = c[mask][order]\n",
    "    tp = np.cumsum(c_flat, dtype=float)\n",
    "    fp = np.cumsum(~c_flat, dtype=float)\n",
    "    tp /= tp[-1]\n",
    "    fp /= fp[-1]\n",
    "    return fp, tp\n",
    "\n",
    "fig, ax = plt.subplots(1, 1, figsize=(6, 6))\n",
    "fp, tp = roc(w_seq, contact_map)\n",
    "ax.plot(fp, tp, 'k-')\n",
    "grid = np.linspace(0, 1)\n",
    "ax.plot(grid, grid, 'r--', lw=1)\n",
    "ax.set_xlabel('false positive rate')\n",
    "ax.set_ylabel('true positive rate')\n",
    "ax.set_title('ROC')\n",
    "ax.text(1, 0, 'AUC: %0.2f' % (tp.sum() / tp.shape[0],), va='bottom', ha='right')\n",
    "plt.show()"
   ]
  },
  {
   "cell_type": "code",
   "execution_count": null,
   "metadata": {},
   "outputs": [],
   "source": [
    "idx = contact_map.sum()\n",
    "mask = ~np.eye(w_seq.shape[0], dtype=bool)\n",
    "thresh = np.sort(np.abs(w_seq)[mask])[-idx]\n",
    "\n",
    "fig, ax = plt.subplots(1, 1, figsize=(6,6))\n",
    "ax.matshow(contact_map, cmap='Greys')\n",
    "cmap = colors.ListedColormap(['white', 'red'])\n",
    "norm = colors.BoundaryNorm([0, 0.5, 1.0], 2)\n",
    "ax.matshow((np.abs(w_seq) > thresh).astype(bool), cmap=cmap, norm=norm, alpha=0.5)\n",
    "ax.axis('off')\n",
    "ax.set_title('PDB: %s, chain %s, residues %i-%i' % (ref.pdb_id, ref.chain, ref.pdb_start, ref.pdb_end))\n",
    "plt.show()"
   ]
  },
  {
   "cell_type": "code",
   "execution_count": null,
   "metadata": {},
   "outputs": [],
   "source": [
    "mask = ~np.eye(w_seq.shape[0], dtype=bool)\n",
    "order = np.argsort(np.abs(w_seq)[mask])\n",
    "\n",
    "res = np.arange(ref.pdb_start, ref.pdb_end+1)\n",
    "res = res[~conserved_residues[~missing_aa_seq]]\n",
    "mask = ~np.eye(res.shape[0], dtype=bool)\n",
    "res_res = np.dstack(np.meshgrid(res, res)[::-1])[mask]\n",
    "\n",
    "res_pairs = res_res[order[-100:]]\n",
    "\n",
    "pdb_list = Bio.PDB.PDBList()\n",
    "pdb_parser = Bio.PDB.PDBParser()\n",
    "pdb_dir = os.path.join(data_dir, 'Pfam-A.full', ref.name)\n",
    "pdb_file = pdb_list.retrieve_pdb_file(ref.pdb_id, pdir=pdb_dir, file_format='pdb')\n",
    "chain = pdb_parser.get_structure(ref.pdb_id, pdb_file)[0][ref.chain]\n",
    "view = nglview.show_biopython(chain)\n",
    "# view.clear_representations()\n",
    "# view.add_licorice()\n",
    "view.add_surface(opacity=0.1)\n",
    "# colors = ['0x0000FF'] * len(chain)\n",
    "# view._set_color_by_residue(colors, component_index=0, repr_index=0)\n",
    "view"
   ]
  },
  {
   "cell_type": "code",
   "execution_count": null,
   "metadata": {},
   "outputs": [],
   "source": [
    "fig, ax = plt.subplots(1, 1, figsize=(8, 8))\n",
    "\n",
    "max_auc = 0\n",
    "\n",
    "for i in range(refs.shape[0]):\n",
    "    ref = refs.iloc[i]\n",
    "    seq = msa[:, ref.seq]\n",
    "    missing_aa_seq = seq == '-'\n",
    "    seq_int = msa_int[:, ref.seq][~conserved_residues]\n",
    "    w_idx = (mm[:-1] + seq_int)[~missing_aa_seq[~conserved_residues]]\n",
    "    w_seq = w[1][np.ix_(w_idx, w_idx)]\n",
    "    contact_map = get_contact_map(ref)\n",
    "    fp, tp = roc(w_seq, contact_map)\n",
    "    ax.plot(fp, tp, label='%s%s, %i-%i' % (ref.pdb_id, ref.chain, ref.pdb_start, ref.pdb_end))\n",
    "    max_auc = max(max_auc, tp.sum() / tp.shape[0])\n",
    "\n",
    "grid = np.linspace(0, 1)\n",
    "ax.plot(grid, grid, 'r--', lw=1)\n",
    "ax.set_xlabel('false positive rate')\n",
    "ax.set_ylabel('true positive rate')\n",
    "ax.set_title('ROC')\n",
    "ax.text(1, 0, 'max AUC: %0.2f' % (max_auc,), va='bottom', ha='right')\n",
    "plt.legend()\n",
    "plt.show()    "
   ]
  },
  {
   "cell_type": "code",
   "execution_count": null,
   "metadata": {},
   "outputs": [],
   "source": []
  },
  {
   "cell_type": "code",
   "execution_count": null,
   "metadata": {},
   "outputs": [],
   "source": [
    "# from pymol import cmd\n",
    "\n",
    "# def plot_pdb(pdb_id, chain, pdb_start, pdb_end):\n",
    "#     return 0\n",
    "\n",
    "# cmd.extend('plot_pdb', plot_pdb)\n",
    "\n",
    "\n",
    "# ? pymol.cmd.extract\n",
    "# fetch 'pdb_id'\n",
    "# extract new_obj, resi pdb_start-pdb_end\n",
    "# color slate, new_obj\n",
    "# set cartoon_transparency, 0.5, 'pdb_id'\n",
    "# color gray80, 'pdb_id'"
   ]
  },
  {
   "cell_type": "code",
   "execution_count": null,
   "metadata": {},
   "outputs": [],
   "source": [
    "# pdb_id = cas9_refs.iloc[i].pdb_id"
   ]
  },
  {
   "cell_type": "code",
   "execution_count": null,
   "metadata": {},
   "outputs": [],
   "source": [
    "# pymol.cmd.fetch(pdb_id, path='./')"
   ]
  },
  {
   "cell_type": "code",
   "execution_count": null,
   "metadata": {},
   "outputs": [],
   "source": [
    "# res_idx = np.argwhere(msa[:,0] != '-').squeeze()\n",
    "# m_cumsum = np.insert(m.cumsum(), 0, 0)\n",
    "# m1 = m_cumsum[:-1][res_idx]\n",
    "# m2 = m_cumsum[1:][res_idx]\n",
    "# v = np.empty((m2.max(), m2.max()))\n",
    "\n",
    "# res1, res2, x = [], [], []\n",
    "# for i, (i1, i2) in enumerate(zip(m1, m2)):\n",
    "#     for j, (j1, j2) in enumerate(zip(m1, m2)):\n",
    "#         res1.append(i)\n",
    "#         res2.append(j)\n",
    "#         x.append(np.abs(w[i1:i2, j1:j2]).sum())\n",
    "        \n",
    "\n",
    "# res1 = np.array(res1) + 130\n",
    "# res2 = np.array(res2) + 130\n",
    "# x = np.array(x)\n",
    "# order = np.argsort(x)[::-1]\n",
    "\n",
    "# res1 = res1[order]\n",
    "# res2 = res2[order]\n",
    "# x = x[order]"
   ]
  },
  {
   "cell_type": "code",
   "execution_count": null,
   "metadata": {},
   "outputs": [],
   "source": [
    "# print '5FQ5'\n",
    "# for row in np.vstack((res1, res2, x)).T[:500]:\n",
    "#     print int(row[0]), int(row[1]), row[2]"
   ]
  },
  {
   "cell_type": "code",
   "execution_count": null,
   "metadata": {},
   "outputs": [],
   "source": [
    "# dir(pymol)\n",
    "# ? pymol.cmd.save"
   ]
  },
  {
   "cell_type": "code",
   "execution_count": null,
   "metadata": {},
   "outputs": [],
   "source": [
    "# pymol.cmd.set('grid_mode', 1)\n",
    "# # gird_slot"
   ]
  },
  {
   "cell_type": "code",
   "execution_count": null,
   "metadata": {},
   "outputs": [],
   "source": [
    "# pymol.cmd.loadall(os.path.join(pf_dir, '*.cif'))"
   ]
  },
  {
   "cell_type": "code",
   "execution_count": null,
   "metadata": {},
   "outputs": [],
   "source": [
    "# pymol.cmd.png(filename = os.path.join(pf_dir, 'all.png'))\n",
    "# pymol.cmd.save(filename = os.path.join(pf_dir, 'all.png'))"
   ]
  },
  {
   "cell_type": "code",
   "execution_count": null,
   "metadata": {},
   "outputs": [],
   "source": [
    "# def plot_pdb(pdbid, pf_dir):\n",
    "#     pdbid = pdbid.lower()\n",
    "#     pymol.cmd.fetch(pdbid, path=pf_dir)\n",
    "#     pymol.cmd.load(filename = os.path.join(pf_dir, pdbid+'.cif'))\n",
    "#     pymol.cmd.png(filename = os.path.join(pf_dir, pdbid+'.png'))\n",
    "\n",
    "# pymol.cmd.extend('plot_pdb', plot_pdb)\n",
    "\n",
    "# # for pdbid in pdbmap[pdbmap['pf'].str.contains('PF16592')].index:\n",
    "# #     plot_pdb(pdbid, pf_dir)"
   ]
  },
  {
   "cell_type": "code",
   "execution_count": null,
   "metadata": {},
   "outputs": [],
   "source": [
    "# pymol -qcr <script.py>\n",
    "# ftp://ftp.ebi.ac.uk/pub/databases/Pfam/releases/Pfam31.0/"
   ]
  },
  {
   "cell_type": "code",
   "execution_count": null,
   "metadata": {},
   "outputs": [],
   "source": [
    "# import Bio\n",
    "# from Bio import SeqIO\n",
    "# msa = Bio.SeqIO.parse(os.path.join(data_dir, 'PF16592_ncbi.txt'), 'fasta')\n",
    "# msa = np.array([np.array(s.seq) for s in msa]).T"
   ]
  },
  {
   "cell_type": "code",
   "execution_count": null,
   "metadata": {},
   "outputs": [],
   "source": [
    "# # random pdb\n",
    "# pdb = pdbmap.sample()\n",
    "# pfam = pf_info[pf_info.index.str.contains(pdb['pf'][0])]"
   ]
  }
 ],
 "metadata": {
  "kernelspec": {
   "display_name": "Python 2",
   "language": "python",
   "name": "python2"
  },
  "language_info": {
   "codemirror_mode": {
    "name": "ipython",
    "version": 2
   },
   "file_extension": ".py",
   "mimetype": "text/x-python",
   "name": "python",
   "nbconvert_exporter": "python",
   "pygments_lexer": "ipython2",
   "version": "2.7.5"
  }
 },
 "nbformat": 4,
 "nbformat_minor": 2
}
